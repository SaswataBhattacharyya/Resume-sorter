{
 "cells": [
  {
   "cell_type": "code",
   "execution_count": 1,
   "metadata": {},
   "outputs": [
    {
     "name": "stdout",
     "output_type": "stream",
     "text": [
      "Requirement already satisfied: pandas in c:\\users\\polpi\\appdata\\local\\programs\\python\\python312\\lib\\site-packages (2.2.3)\n",
      "Requirement already satisfied: openpyxl in c:\\users\\polpi\\appdata\\local\\programs\\python\\python312\\lib\\site-packages (3.1.5)\n",
      "Requirement already satisfied: numpy>=1.26.0 in c:\\users\\polpi\\appdata\\local\\programs\\python\\python312\\lib\\site-packages (from pandas) (2.2.0)\n",
      "Requirement already satisfied: python-dateutil>=2.8.2 in c:\\users\\polpi\\appdata\\local\\programs\\python\\python312\\lib\\site-packages (from pandas) (2.8.2)\n",
      "Requirement already satisfied: pytz>=2020.1 in c:\\users\\polpi\\appdata\\local\\programs\\python\\python312\\lib\\site-packages (from pandas) (2024.1)\n",
      "Requirement already satisfied: tzdata>=2022.7 in c:\\users\\polpi\\appdata\\local\\programs\\python\\python312\\lib\\site-packages (from pandas) (2024.1)\n",
      "Requirement already satisfied: et-xmlfile in c:\\users\\polpi\\appdata\\local\\programs\\python\\python312\\lib\\site-packages (from openpyxl) (2.0.0)\n",
      "Requirement already satisfied: six>=1.5 in c:\\users\\polpi\\appdata\\local\\programs\\python\\python312\\lib\\site-packages (from python-dateutil>=2.8.2->pandas) (1.16.0)\n",
      "Note: you may need to restart the kernel to use updated packages.\n"
     ]
    }
   ],
   "source": [
    "pip install pandas openpyxl"
   ]
  },
  {
   "cell_type": "code",
   "execution_count": null,
   "metadata": {},
   "outputs": [],
   "source": [
    "import pandas as pd\n",
    "import re\n",
    "import numpy as np\n",
    "\n",
    "# File paths\n",
    "input_file_path = r\"C:\\Users\\polpi\\Desktop\\data science\\project\\docker_project\\cleaned_formatted_excel.xlsx\"\n",
    "output_file_path = r\"C:\\Users\\polpi\\Desktop\\data science\\project\\docker_project\\updated_extracted_data2.xlsx\"\n",
    "\n",
    "# Column names\n",
    "column_name = \"formatted_info\"\n",
    "keyword_category_column = \"Keyword_Category\"\n",
    "\n",
    "# Function to extract content between specified texts\n",
    "def extract_info(text):\n",
    "    patterns = {\n",
    "        'Name': r'NAME\\s*(.*?)\\s*(?=AGE)',  # Extract everything between NAME and AGE\n",
    "        'Age': r'AGE\\s*(.*?)\\s*(?=QUALIFICATION)',  # Extract everything between AGE and QUALIFICATION\n",
    "        'Qualification': r'QUALIFICATION\\s*(.*?)\\s*(?=SUBJECT)',  # Extract everything between QUALIFICATION and SUBJECT\n",
    "        'Subject Area': r'SUBJECT\\s*(.*?)\\s*(?=PLACE)',  # Extract everything between SUBJECT and PLACE\n",
    "        'Place of Education': r'PLACE\\s*(.*?)\\s*(?=CODING)',  # Extract everything between PLACE and CODING\n",
    "        'Coding Language': r'CODING\\s*(.*?)\\s*(?=SPOKEN)',  # Extract everything between CODING and SPOKEN\n",
    "        'Spoken Language': r'SPOKEN\\s*(.*?)\\s*(?=SKILL)',  # Extract everything between SPOKEN and SKILL\n",
    "        'Skill Set': r'SKILL\\s*(.*?)\\s*(?=EXPERIENCE)',  # Extract everything between SKILL and EXPERIENCE\n",
    "        'Years of Work Experience': r'EXPERIENCE\\s*(.*?)\\s*(?=\\s|$)'  # Extract everything between EXPERIENCE and end of string\n",
    "    }\n",
    "    extracted = {}\n",
    "    for key, pattern in patterns.items():\n",
    "        match = re.search(pattern, text, re.DOTALL)\n",
    "        value = match.group(1).strip() if match else np.nan\n",
    "        extracted[key] = value\n",
    "    return extracted\n",
    "\n",
    "# Read the input Excel file\n",
    "df_input = pd.read_excel(input_file_path)\n",
    "\n",
    "# Process each row in the specified column\n",
    "structured_data = [\n",
    "    extract_info(cell) if isinstance(cell, str) and cell.strip() else {}\n",
    "    for cell in df_input[column_name]\n",
    "]\n",
    "\n",
    "# Convert to DataFrame\n",
    "df_output = pd.DataFrame(structured_data)\n",
    "\n",
    "# Add Keyword_category column after \"Years of Work Experience\"\n",
    "if keyword_category_column in df_input.columns:\n",
    "    df_output.insert(\n",
    "        df_output.columns.get_loc(\"Years of Work Experience\") + 1,\n",
    "        keyword_category_column,\n",
    "        df_input[keyword_category_column]\n",
    "    )\n",
    "\n",
    "# Ensure Age and Years of Work Experience columns contain only numeric or NA values\n",
    "def clean_numeric(column):\n",
    "    return column.apply(lambda x: 'NA' if isinstance(x, (int, float, str)) and re.match(r'^\\d+\\.?\\d*$', str(x)) and float(x) > 100 \n",
    "                        else float(x) if isinstance(x, (int, float, str)) and re.match(r'^\\d+\\.?\\d*$', str(x)) \n",
    "                        else 'NA' if pd.isna(x) or str(x).upper() == 'NA' else np.nan)\n",
    "\n",
    "df_output['Age'] = clean_numeric(df_output['Age'])\n",
    "df_output['Years of Work Experience'] = clean_numeric(df_output['Years of Work Experience'])\n",
    "\n",
    "\n",
    "# Save the output to Excel\n",
    "df_output.to_excel(output_file_path, index=False)\n",
    "\n",
    "print(\"Data extraction completed successfully!\")"
   ]
  }
 ],
 "metadata": {
  "kernelspec": {
   "display_name": "Python (spaCy_env)",
   "language": "python",
   "name": "spacy_env"
  },
  "language_info": {
   "codemirror_mode": {
    "name": "ipython",
    "version": 3
   },
   "file_extension": ".py",
   "mimetype": "text/x-python",
   "name": "python",
   "nbconvert_exporter": "python",
   "pygments_lexer": "ipython3",
   "version": "3.12.2"
  }
 },
 "nbformat": 4,
 "nbformat_minor": 2
}
